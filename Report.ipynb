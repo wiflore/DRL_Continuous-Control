{
 "cells": [
  {
   "cell_type": "markdown",
   "metadata": {},
   "source": [
    "# Continuous Control\n",
    "\n",
    "---\n",
    "\n",
    "You are welcome to use this coding environment to train your agent for the project.  Follow the instructions below to get started!\n",
    "\n",
    "### 1. Start the Environment\n",
    "\n",
    "Run the next code cell to install a few packages.  This line will take a few minutes to run!"
   ]
  },
  {
   "cell_type": "code",
   "execution_count": 1,
   "metadata": {
    "scrolled": false
   },
   "outputs": [
    {
     "name": "stdout",
     "output_type": "stream",
     "text": [
      "\u001b[31mtensorflow 1.7.1 has requirement numpy>=1.13.3, but you'll have numpy 1.12.1 which is incompatible.\u001b[0m\r\n",
      "\u001b[31mipython 6.5.0 has requirement prompt-toolkit<2.0.0,>=1.0.15, but you'll have prompt-toolkit 2.0.9 which is incompatible.\u001b[0m\r\n"
     ]
    }
   ],
   "source": [
    "!pip -q install ./python\n",
    "from unityagents import UnityEnvironment\n",
    "import numpy as np\n",
    "import torch\n",
    "from collections import deque\n",
    "import matplotlib.pyplot as plt\n",
    "\n",
    "# pip freeze > requirements.txt\n",
    "\n",
    "# Create the Agent\n",
    "from ddpg_td3_model import Agent\n",
    "\n"
   ]
  },
  {
   "cell_type": "markdown",
   "metadata": {},
   "source": [
    "The environments corresponding to both versions of the environment are already saved in the Workspace and can be accessed at the file paths provided below.  \n",
    "\n",
    "Please select one of the two options below for loading the environment."
   ]
  },
  {
   "cell_type": "code",
   "execution_count": 2,
   "metadata": {
    "scrolled": false
   },
   "outputs": [
    {
     "name": "stderr",
     "output_type": "stream",
     "text": [
      "INFO:unityagents:\n",
      "'Academy' started successfully!\n",
      "Unity Academy name: Academy\n",
      "        Number of Brains: 1\n",
      "        Number of External Brains : 1\n",
      "        Lesson number : 0\n",
      "        Reset Parameters :\n",
      "\t\tgoal_speed -> 1.0\n",
      "\t\tgoal_size -> 5.0\n",
      "Unity brain name: ReacherBrain\n",
      "        Number of Visual Observations (per agent): 0\n",
      "        Vector Observation space type: continuous\n",
      "        Vector Observation space size (per agent): 33\n",
      "        Number of stacked Vector Observation: 1\n",
      "        Vector Action space type: continuous\n",
      "        Vector Action space size (per agent): 4\n",
      "        Vector Action descriptions: , , , \n"
     ]
    }
   ],
   "source": [
    "# select this option to load version 1 (with a single agent) of the environment\n",
    "#env = UnityEnvironment(file_name='/data/Reacher_One_Linux_NoVis/Reacher_One_Linux_NoVis.x86_64')\n",
    "\n",
    "# select this option to load version 2 (with 20 agents) of the environment\n",
    "env = UnityEnvironment(file_name='/data/Reacher_Linux_NoVis/Reacher.x86_64')"
   ]
  },
  {
   "cell_type": "markdown",
   "metadata": {},
   "source": [
    "Environments contain **_brains_** which are responsible for deciding the actions of their associated agents. Here we check for the first brain available, and set it as the default brain we will be controlling from Python."
   ]
  },
  {
   "cell_type": "code",
   "execution_count": 3,
   "metadata": {},
   "outputs": [],
   "source": [
    "# get the default brain\n",
    "brain_name = env.brain_names[0]\n",
    "brain = env.brains[brain_name]"
   ]
  },
  {
   "cell_type": "markdown",
   "metadata": {},
   "source": [
    "### 2. Examine the State and Action Spaces\n",
    "\n",
    "Run the code cell below to print some information about the environment."
   ]
  },
  {
   "cell_type": "code",
   "execution_count": 4,
   "metadata": {
    "scrolled": false
   },
   "outputs": [
    {
     "name": "stdout",
     "output_type": "stream",
     "text": [
      "Number of agents: 20\n",
      "Size of each action: 4\n",
      "There are 20 agents. Each observes a state with length: 33\n",
      "The state for the first agent looks like: [  0.00000000e+00  -4.00000000e+00   0.00000000e+00   1.00000000e+00\n",
      "  -0.00000000e+00  -0.00000000e+00  -4.37113883e-08   0.00000000e+00\n",
      "   0.00000000e+00   0.00000000e+00   0.00000000e+00   0.00000000e+00\n",
      "   0.00000000e+00   0.00000000e+00  -1.00000000e+01   0.00000000e+00\n",
      "   1.00000000e+00  -0.00000000e+00  -0.00000000e+00  -4.37113883e-08\n",
      "   0.00000000e+00   0.00000000e+00   0.00000000e+00   0.00000000e+00\n",
      "   0.00000000e+00   0.00000000e+00   5.75471878e+00  -1.00000000e+00\n",
      "   5.55726624e+00   0.00000000e+00   1.00000000e+00   0.00000000e+00\n",
      "  -1.68164849e-01]\n",
      "The state for the 2nd agent looks like: [  0.00000000e+00  -4.00000000e+00   0.00000000e+00   1.00000000e+00\n",
      "  -0.00000000e+00  -0.00000000e+00  -4.37113883e-08   0.00000000e+00\n",
      "   0.00000000e+00   0.00000000e+00   0.00000000e+00   0.00000000e+00\n",
      "   0.00000000e+00   0.00000000e+00  -1.00000000e+01   0.00000000e+00\n",
      "   1.00000000e+00  -0.00000000e+00  -0.00000000e+00  -4.37113883e-08\n",
      "   0.00000000e+00   0.00000000e+00   0.00000000e+00   0.00000000e+00\n",
      "   0.00000000e+00   0.00000000e+00  -6.30408478e+00  -1.00000000e+00\n",
      "  -4.92529297e+00   0.00000000e+00   1.00000000e+00   0.00000000e+00\n",
      "  -5.33014059e-01]\n"
     ]
    }
   ],
   "source": [
    "# reset the environment\n",
    "env_info = env.reset(train_mode=True)[brain_name]\n",
    "\n",
    "# number of agents\n",
    "num_agents = len(env_info.agents)\n",
    "print('Number of agents:', num_agents)\n",
    "\n",
    "# size of each action\n",
    "action_size = brain.vector_action_space_size\n",
    "print('Size of each action:', action_size)\n",
    "\n",
    "# examine the state space \n",
    "states = env_info.vector_observations\n",
    "state_size = states.shape[1]\n",
    "\n",
    "print('There are {} agents. Each observes a state with length: {}'.format(states.shape[0], state_size))\n",
    "print('The state for the first agent looks like:', states[0])\n",
    "print('The state for the 2nd agent looks like:', states[1])"
   ]
  },
  {
   "cell_type": "markdown",
   "metadata": {},
   "source": [
    "### 3. Take Random Actions in the Environment\n",
    "\n",
    "In the next code cell, you will learn how to use the Python API to control the agent and receive feedback from the environment.\n",
    "\n",
    "Note that **in this coding environment, you will not be able to watch the agents while they are training**, and you should set `train_mode=True` to restart the environment."
   ]
  },
  {
   "cell_type": "code",
   "execution_count": 5,
   "metadata": {},
   "outputs": [
    {
     "name": "stdout",
     "output_type": "stream",
     "text": [
      "Total score (averaged over agents) this episode: 0.1064999976195395\n"
     ]
    }
   ],
   "source": [
    "env_info = env.reset(train_mode=True)[brain_name]      # reset the environment    \n",
    "states = env_info.vector_observations                  # get the current state (for each agent)\n",
    "scores = np.zeros(num_agents)                          # initialize the score (for each agent)\n",
    "while True:\n",
    "    actions = np.random.randn(num_agents, action_size) # select an action (for each agent)\n",
    "    actions = np.clip(actions, -1, 1)                  # all actions between -1 and 1\n",
    "    env_info = env.step(actions)[brain_name]           # send all actions to tne environment\n",
    "    next_states = env_info.vector_observations         # get next state (for each agent)\n",
    "    rewards = env_info.rewards                         # get reward (for each agent)\n",
    "    dones = env_info.local_done                        # see if episode finished\n",
    "    scores += env_info.rewards                         # update the score (for each agent)\n",
    "    states = next_states                               # roll over states to next time step\n",
    "    if np.any(dones):    \n",
    "        # exit loop if episode finished\n",
    "        break\n",
    "print('Total score (averaged over agents) this episode: {}'.format(np.mean(scores)))\n"
   ]
  },
  {
   "cell_type": "markdown",
   "metadata": {},
   "source": [
    "When finished, you can close the environment."
   ]
  },
  {
   "cell_type": "markdown",
   "metadata": {},
   "source": [
    "### 4. Model selected: DDPG - TD3"
   ]
  },
  {
   "cell_type": "markdown",
   "metadata": {},
   "source": [
    "Based on: https://spinningup.openai.com/en/latest/algorithms/td3.html\n",
    "\n",
    "Deep Deterministic Policy Gradient (DDPG) is an algorithm which concurrently learns a Q-function and a policy. It uses off-policy data and the Bellman equation to learn the Q-function, and uses the Q-function to learn the policy.\n",
    "\n",
    "While DDPG can achieve great performance sometimes, it is frequently brittle with respect to hyperparameters and other kinds of tuning. A common failure mode for DDPG is that the learned Q-function begins to dramatically overestimate Q-values, which then leads to the policy breaking, because it exploits the errors in the Q-function. Twin Delayed DDPG (TD3) is an algorithm which addresses this issue by introducing three critical tricks:\n",
    "\n",
    "**Trick One:** Clipped Double-Q Learning. TD3 learns two Q-functions instead of one (hence “twin”), and uses the smaller of the two Q-values to form the targets in the Bellman error loss functions.\n",
    "\n",
    "**Trick Two:** “Delayed” Policy Updates. TD3 updates the policy (and target networks) less frequently than the Q-function. The paper recommends one policy update for every two Q-function updates.\n",
    "\n",
    "**Trick Three:** Target Policy Smoothing. TD3 adds noise to the target action, to make it harder for the policy to exploit Q-function errors by smoothing out Q along changes in action."
   ]
  },
  {
   "cell_type": "markdown",
   "metadata": {},
   "source": [
    "![Model](https://spinningup.openai.com/en/latest/_images/math/52d3d2df4225f9fec06156d6e1d3da26c8b27bc5.svg)"
   ]
  },
  {
   "cell_type": "markdown",
   "metadata": {},
   "source": [
    "#### Hyperparameters\n",
    "BUFFER_SIZE = int(1e6)  # replay buffer size  \n",
    "BATCH_SIZE = 128        # minibatch size  \n",
    "GAMMA = 0.995           # discount factor  \n",
    "TAU = 1e-3              # for soft update of target parameters  \n",
    "LR_ACTOR = 0.1e-3       # learning rate of the actor   \n",
    "LR_CRITIC = 1e-3        # learning rate of the critic  \n",
    "WEIGHT_DECAY = 1e-6     # L2 weight decay  "
   ]
  },
  {
   "cell_type": "markdown",
   "metadata": {},
   "source": [
    "### 5. Training the agents"
   ]
  },
  {
   "cell_type": "code",
   "execution_count": 6,
   "metadata": {},
   "outputs": [],
   "source": [
    "agent = Agent(state_size=state_size, \n",
    "              action_size=action_size, \n",
    "              random_seed=1, agent_size=num_agents)"
   ]
  },
  {
   "cell_type": "code",
   "execution_count": 7,
   "metadata": {
    "scrolled": false
   },
   "outputs": [
    {
     "name": "stdout",
     "output_type": "stream",
     "text": [
      "Episode 1\tAverage Score: 0.62\n",
      "Episode 2\tAverage Score: 0.57\n",
      "Episode 3\tAverage Score: 0.69\n",
      "Episode 4\tAverage Score: 0.88\n",
      "Episode 5\tAverage Score: 0.89\n",
      "Episode 6\tAverage Score: 0.85\n",
      "Episode 7\tAverage Score: 0.92\n",
      "Episode 8\tAverage Score: 1.07\n",
      "Episode 9\tAverage Score: 1.17\n",
      "Episode 10\tAverage Score: 1.31\n",
      "Episode 11\tAverage Score: 1.44\n",
      "Episode 12\tAverage Score: 1.57\n",
      "Episode 13\tAverage Score: 1.77\n",
      "Episode 14\tAverage Score: 1.90\n",
      "Episode 15\tAverage Score: 2.04\n",
      "Episode 16\tAverage Score: 2.17\n",
      "Episode 17\tAverage Score: 2.36\n",
      "Episode 18\tAverage Score: 2.58\n",
      "Episode 19\tAverage Score: 2.78\n",
      "Episode 20\tAverage Score: 3.04\n",
      "Episode 21\tAverage Score: 3.28\n",
      "Episode 22\tAverage Score: 3.61\n",
      "Episode 23\tAverage Score: 3.86\n",
      "Episode 24\tAverage Score: 4.08\n",
      "Episode 25\tAverage Score: 4.32\n",
      "Episode 26\tAverage Score: 4.64\n",
      "Episode 27\tAverage Score: 4.93\n",
      "Episode 28\tAverage Score: 5.22\n",
      "Episode 29\tAverage Score: 5.44\n",
      "Episode 30\tAverage Score: 5.72\n",
      "Episode 31\tAverage Score: 6.03\n",
      "Episode 32\tAverage Score: 6.43\n",
      "Episode 33\tAverage Score: 6.85\n",
      "Episode 34\tAverage Score: 7.33\n",
      "Episode 35\tAverage Score: 7.75\n",
      "Episode 36\tAverage Score: 8.22\n",
      "Episode 37\tAverage Score: 8.69\n",
      "Episode 38\tAverage Score: 9.14\n",
      "Episode 39\tAverage Score: 9.55\n",
      "Episode 40\tAverage Score: 9.99\n",
      "Episode 41\tAverage Score: 10.40\n",
      "Episode 42\tAverage Score: 10.89\n",
      "Episode 43\tAverage Score: 11.31\n",
      "Episode 44\tAverage Score: 11.76\n",
      "Episode 45\tAverage Score: 12.19\n",
      "Episode 46\tAverage Score: 12.63\n",
      "Episode 47\tAverage Score: 13.06\n",
      "Episode 48\tAverage Score: 13.45\n",
      "Episode 49\tAverage Score: 13.88\n",
      "Episode 50\tAverage Score: 14.31\n",
      "Episode 51\tAverage Score: 14.72\n",
      "Episode 52\tAverage Score: 15.12\n",
      "Episode 53\tAverage Score: 15.52\n",
      "Episode 54\tAverage Score: 15.89\n",
      "Episode 55\tAverage Score: 16.25\n",
      "Episode 56\tAverage Score: 16.59\n",
      "Episode 57\tAverage Score: 16.92\n",
      "Episode 58\tAverage Score: 17.27\n",
      "Episode 59\tAverage Score: 17.61\n",
      "Episode 60\tAverage Score: 17.96\n",
      "Episode 61\tAverage Score: 18.29\n",
      "Episode 62\tAverage Score: 18.62\n",
      "Episode 63\tAverage Score: 18.93\n",
      "Episode 64\tAverage Score: 19.23\n",
      "Episode 65\tAverage Score: 19.51\n",
      "Episode 66\tAverage Score: 19.78\n",
      "Episode 67\tAverage Score: 20.03\n",
      "Episode 68\tAverage Score: 20.28\n",
      "Episode 69\tAverage Score: 20.51\n",
      "Episode 70\tAverage Score: 20.76\n",
      "Episode 71\tAverage Score: 21.00\n",
      "Episode 72\tAverage Score: 21.25\n",
      "Episode 73\tAverage Score: 21.48\n",
      "Episode 74\tAverage Score: 21.70\n",
      "Episode 75\tAverage Score: 21.91\n",
      "Episode 76\tAverage Score: 22.12\n",
      "Episode 77\tAverage Score: 22.31\n",
      "Episode 78\tAverage Score: 22.50\n",
      "Episode 79\tAverage Score: 22.69\n",
      "Episode 80\tAverage Score: 22.88\n",
      "Episode 81\tAverage Score: 23.06\n",
      "Episode 82\tAverage Score: 23.24\n",
      "Episode 83\tAverage Score: 23.42\n",
      "Episode 84\tAverage Score: 23.58\n",
      "Episode 85\tAverage Score: 23.76\n",
      "Episode 86\tAverage Score: 23.93\n",
      "Episode 87\tAverage Score: 24.08\n",
      "Episode 88\tAverage Score: 24.24\n",
      "Episode 89\tAverage Score: 24.40\n",
      "Episode 90\tAverage Score: 24.55\n",
      "Episode 91\tAverage Score: 24.71\n",
      "Episode 92\tAverage Score: 24.86\n",
      "Episode 93\tAverage Score: 25.00\n",
      "Episode 94\tAverage Score: 25.15\n",
      "Episode 95\tAverage Score: 25.28\n",
      "Episode 96\tAverage Score: 25.41\n",
      "Episode 97\tAverage Score: 25.55\n",
      "Episode 98\tAverage Score: 25.68\n",
      "Episode 99\tAverage Score: 25.80\n",
      "Episode 100\tAverage Score: 25.92\n",
      "Episode 101\tAverage Score: 26.29\n",
      "Episode 102\tAverage Score: 26.66\n",
      "Episode 103\tAverage Score: 27.02\n",
      "Episode 104\tAverage Score: 27.38\n",
      "Episode 105\tAverage Score: 27.74\n",
      "Episode 106\tAverage Score: 28.11\n",
      "Episode 107\tAverage Score: 28.47\n",
      "Episode 108\tAverage Score: 28.82\n",
      "Episode 109\tAverage Score: 29.18\n",
      "Episode 110\tAverage Score: 29.52\n",
      "Episode 111\tAverage Score: 29.87\n",
      "Episode 112\tAverage Score: 30.21\n",
      "\n",
      "Environment solved in 112 episodes!\tAverage Score: 30.21\n"
     ]
    },
    {
     "data": {
      "image/png": "[encoded data removed]",
      "text/plain": [
       "<matplotlib.figure.Figure at 0x7f77b811a160>"
      ]
     },
     "metadata": {
      "needs_background": "light"
     },
     "output_type": "display_data"
    }
   ],
   "source": [
    "def ddpg_td3(n_episodes=1000, max_t=1000, consecutive_episodes = 100, \n",
    "             learn_every = 20, n_experiences = 20, target_avg_score = 30.0, print_every=1):\n",
    "    \"\"\"Deep Deterministic Policy Gradients DDPG  from Pendulum exercise was employed: \n",
    "       Params:\n",
    "            n_episodes (int): maximum number of training episodes\n",
    "            max_t (int): maximum number of timesteps per episode\n",
    "            consecutive_episodes (int): number of consecutive episodes\n",
    "            learn_every (int): update the network every n timesteps\n",
    "            n_experiences (int): update the netword n times\n",
    "            target_avg_score (int): target avg score of the range of n consecutive_episodes\n",
    "            print_every (int): print the training every n timesteps\n",
    "    \"\"\"\n",
    "    \n",
    "    scores_windows = deque(maxlen=consecutive_episodes)\n",
    "    scores = [] # list containing scores \n",
    "    for i_episode in range(1, n_episodes+1):\n",
    "        env_info = env.reset(train_mode=True)[brain_name] # reset the environment\n",
    "        states = env_info.vector_observations # get the current stat\n",
    "        agent.reset() #initialize agents \n",
    "        agents_scores = np.zeros(num_agents) \n",
    "        \n",
    "        for t in range(max_t):\n",
    "            actions=[] # clear actions\n",
    "            actions = agent.act(states) # select an action   \n",
    "            action_info = env.step(actions)[brain_name] # get enviroment info\n",
    "            next_states = action_info.vector_observations # get next state \n",
    "            rewards = action_info.rewards # get reward \n",
    "            dones = action_info.local_done # see if episode finished\n",
    "            \n",
    "            for index in range(0,num_agents):\n",
    "                agent.save_experience(states[index], actions[index], rewards[index], next_states[index], dones[index])\n",
    "                \n",
    "            agent.multi_step(states, actions, rewards, next_states, dones) \n",
    "            \n",
    "            states = next_states # roll over states to next time step\n",
    "            agents_scores += rewards # update the scores\n",
    "            \n",
    "            agent.multi_learning(t, learn_every, n_experiences) #Train each agent \n",
    "\n",
    "            if np.any(dones):\n",
    "                break \n",
    " \n",
    "        scores_windows.append(np.mean(agents_scores))\n",
    "        scores.append(np.mean(agents_scores))         # save most recent score\n",
    "        score_mean =np.mean(scores_windows)\n",
    "\n",
    "        if i_episode % print_every == 0:\n",
    "            print('\\rEpisode {}\\tAverage Score: {:.2f}'.format(i_episode, score_mean), end=\"\\n\")   \n",
    "       \n",
    "        if np.mean(scores_windows)>=30.0:\n",
    "            print('\\nEnvironment solved in {:d} episodes!\\tAverage Score: {:.2f}'.format(i_episode, score_mean))\n",
    "            torch.save(agent.actor_local.state_dict(),  'td3_actor.pth' )\n",
    "            torch.save(agent.critic_local.state_dict(), 'td3_critic.pth')\n",
    "            break\n",
    "            \n",
    "    return scores\n",
    "\n",
    "scores = ddpg_td3()\n",
    "\n",
    "# plot the scores\n",
    "fig = plt.figure()\n",
    "ax = fig.add_subplot(111)\n",
    "plt.plot(np.arange(len(scores)), scores)\n",
    "plt.ylabel('Score')\n",
    "plt.xlabel('Episode #')\n",
    "plt.show()"
   ]
  },
  {
   "cell_type": "markdown",
   "metadata": {},
   "source": [
    "### 6. Testing the agents"
   ]
  },
  {
   "cell_type": "code",
   "execution_count": 8,
   "metadata": {},
   "outputs": [
    {
     "name": "stdout",
     "output_type": "stream",
     "text": [
      "Total score (averaged over agents) this episode: 36.78049917789176\n"
     ]
    }
   ],
   "source": [
    "# Play the Trained Agent\n",
    "# load the weights from file\n",
    "agent.actor_local.load_state_dict(torch.load('td3_actor.pth'))\n",
    "agent.critic_local.load_state_dict(torch.load('td3_critic.pth'))\n",
    "\n",
    "env_info = env.reset(train_mode=False)[brain_name] # reset the environment\n",
    "states = env_info.vector_observations              # get the current state (for each agent)\n",
    "scores = np.zeros(num_agents)                      # initialize the score (for each agent)                                         # initialize the score\n",
    "while True:\n",
    "    actions = agent.act(states)                # select an action (for each agent)\n",
    "    actions = np.clip(actions, -1, 1)          # all actions between -1 and 1      \n",
    "    env_info = env.step(actions)[brain_name]   # send the action to the environment                  \n",
    "    next_states =  env_info.vector_observations# get the next state (for each agent)\n",
    "    rewards = env_info.rewards                 # get the reward (for each agent)\n",
    "    dones =env_info.local_done                 # see if episode has finished\n",
    "    scores += rewards                          # update the score (for each agent)\n",
    "    states = next_states                       # roll over the state to next time step\n",
    "    if np.any(dones):                          # exit loop if episode finished\n",
    "        break\n",
    "    \n",
    "print('Total score (averaged over agents) this episode: {}'.format(np.mean(scores)))"
   ]
  },
  {
   "cell_type": "code",
   "execution_count": 9,
   "metadata": {},
   "outputs": [],
   "source": [
    "env.close()"
   ]
  },
  {
   "cell_type": "markdown",
   "metadata": {},
   "source": [
    "I'd like to understand the implementation of the paper: **On-Policy Trust Region Policy Optimisation with Replay Buffers**, Dmitry Kangin, Nicolas Pugeault.\n",
    "\n",
    "https://arxiv.org/abs/1901.06212\n",
    "    \n",
    "**Summary:**\n",
    "    \n",
    "Building upon the recent success of deep reinforcement learning methods, we investigate the possibility of on-policy reinforcement learning improvement by reusing the data from several consecutive policies. On-policy methods bring many benefits, such as ability to evaluate each resulting policy. However, they usually discard all the information about the policies which existed before. In this work, we propose adaptation of the replay buffer concept, borrowed from the off-policy learning setting, to create the method, combining advantages of on- and off-policy learning. To achieve this, the proposed algorithm generalises the Q-, value and advantage functions for data from multiple policies. The method uses trust region optimisation, while avoiding some of the common problems of the algorithms such as TRPO or ACKTR: it uses hyperparameters to replace the trust region selection heuristics, as well as the trainable covariance matrix instead of the fixed one. In many cases, the method not only improves the results comparing to the state-of-the-art trust region on-policy learning algorithms such as PPO, ACKTR and TRPO, but also with respect to their off-policy counterpart DDPG.    "
   ]
  },
  {
   "cell_type": "markdown",
   "metadata": {},
   "source": []
  }
 ],
 "metadata": {
  "kernelspec": {
   "display_name": "Python 3",
   "language": "python",
   "name": "python3"
  },
  "language_info": {
   "codemirror_mode": {
    "name": "ipython",
    "version": 3
   },
   "file_extension": ".py",
   "mimetype": "text/x-python",
   "name": "python",
   "nbconvert_exporter": "python",
   "pygments_lexer": "ipython3",
   "version": "3.6.3"
  }
 },
 "nbformat": 4,
 "nbformat_minor": 2
}
